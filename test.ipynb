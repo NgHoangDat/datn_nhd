{
 "cells": [
  {
   "cell_type": "code",
   "execution_count": 1,
   "metadata": {},
   "outputs": [
    {
     "name": "stderr",
     "output_type": "stream",
     "text": [
      "F:\\Miniconda3\\lib\\site-packages\\gensim\\utils.py:860: UserWarning: detected Windows; aliasing chunkize to chunkize_serial\n",
      "  warnings.warn(\"detected Windows; aliasing chunkize to chunkize_serial\")\n"
     ]
    }
   ],
   "source": [
    "from utils import *\n",
    "import numpy as np"
   ]
  },
  {
   "cell_type": "code",
   "execution_count": 2,
   "metadata": {},
   "outputs": [
    {
     "name": "stdout",
     "output_type": "stream",
     "text": [
      "Positive: 1738\n",
      "Negative: 732\n"
     ]
    }
   ],
   "source": [
    "tr_revs, tr_revs_content = read_data_file('./data/restaurant/train.txt')"
   ]
  },
  {
   "cell_type": "code",
   "execution_count": 3,
   "metadata": {},
   "outputs": [],
   "source": [
    "word_idx_map, w2v = creat_word_embedding(tr_revs_content, 100)"
   ]
  },
  {
   "cell_type": "code",
   "execution_count": 4,
   "metadata": {},
   "outputs": [
    {
     "ename": "ValueError",
     "evalue": "'$t$' is not in list",
     "output_type": "error",
     "traceback": [
      "\u001b[1;31m---------------------------------------------------------------------------\u001b[0m",
      "\u001b[1;31mValueError\u001b[0m                                Traceback (most recent call last)",
      "\u001b[1;32m<ipython-input-4-b69eab2258c6>\u001b[0m in \u001b[0;36m<module>\u001b[1;34m()\u001b[0m\n\u001b[1;32m----> 1\u001b[1;33m \u001b[0mtr_x_fw\u001b[0m\u001b[1;33m,\u001b[0m \u001b[0mtr_len_fw\u001b[0m\u001b[1;33m,\u001b[0m \u001b[0mtr_x_bw\u001b[0m\u001b[1;33m,\u001b[0m \u001b[0mtr_len_bw\u001b[0m\u001b[1;33m,\u001b[0m \u001b[0mtr_tar_words\u001b[0m\u001b[1;33m,\u001b[0m \u001b[0mtr_y\u001b[0m \u001b[1;33m=\u001b[0m \u001b[0mdata_parse\u001b[0m\u001b[1;33m(\u001b[0m\u001b[0mword_idx_map\u001b[0m\u001b[1;33m,\u001b[0m \u001b[0mtr_revs\u001b[0m\u001b[1;33m,\u001b[0m \u001b[1;36m80\u001b[0m\u001b[1;33m)\u001b[0m\u001b[1;33m\u001b[0m\u001b[0m\n\u001b[0m",
      "\u001b[1;32mG:\\Study\\DATN\\aspect_sentiment\\absa_nhd\\utils.py\u001b[0m in \u001b[0;36mdata_parse\u001b[1;34m(revs, word_idx_map, max_len)\u001b[0m\n\u001b[0;32m    133\u001b[0m         \u001b[0mcontent\u001b[0m \u001b[1;33m=\u001b[0m \u001b[0mcontent\u001b[0m\u001b[1;33m.\u001b[0m\u001b[0msplit\u001b[0m\u001b[1;33m(\u001b[0m\u001b[1;33m)\u001b[0m\u001b[1;33m\u001b[0m\u001b[0m\n\u001b[0;32m    134\u001b[0m \u001b[1;33m\u001b[0m\u001b[0m\n\u001b[1;32m--> 135\u001b[1;33m         \u001b[0mtar_idx\u001b[0m \u001b[1;33m=\u001b[0m \u001b[0mcontent\u001b[0m\u001b[1;33m.\u001b[0m\u001b[0mindex\u001b[0m\u001b[1;33m(\u001b[0m\u001b[1;34m'$t$'\u001b[0m\u001b[1;33m)\u001b[0m\u001b[1;33m\u001b[0m\u001b[0m\n\u001b[0m\u001b[0;32m    136\u001b[0m \u001b[1;33m\u001b[0m\u001b[0m\n\u001b[0;32m    137\u001b[0m         \u001b[0mfw\u001b[0m \u001b[1;33m=\u001b[0m \u001b[0mlist\u001b[0m\u001b[1;33m(\u001b[0m\u001b[0mmap\u001b[0m\u001b[1;33m(\u001b[0m\u001b[1;32mlambda\u001b[0m \u001b[0mw\u001b[0m\u001b[1;33m:\u001b[0m \u001b[0mword_idx_map\u001b[0m\u001b[1;33m.\u001b[0m\u001b[0mget\u001b[0m\u001b[1;33m(\u001b[0m\u001b[0mw\u001b[0m\u001b[1;33m,\u001b[0m \u001b[1;36m0\u001b[0m\u001b[1;33m)\u001b[0m\u001b[1;33m,\u001b[0m \u001b[0mcontent\u001b[0m\u001b[1;33m[\u001b[0m\u001b[1;36m0\u001b[0m\u001b[1;33m:\u001b[0m\u001b[0mtar_idx\u001b[0m\u001b[1;33m]\u001b[0m\u001b[1;33m)\u001b[0m\u001b[1;33m)\u001b[0m\u001b[1;33m\u001b[0m\u001b[0m\n",
      "\u001b[1;31mValueError\u001b[0m: '$t$' is not in list"
     ]
    }
   ],
   "source": [
    "tr_x_fw, tr_len_fw, tr_x_bw, tr_len_bw, tr_tar_words, tr_y = data_parse(word_idx_map, tr_revs, 80)"
   ]
  },
  {
   "cell_type": "code",
   "execution_count": 5,
   "metadata": {},
   "outputs": [],
   "source": [
    "x_fw, x_bw, target_words = [], [], []\n",
    "i = 1\n",
    "for rev in tr_revs:\n",
    "    senti, tar, content = rev\n",
    "    content = content.split()\n",
    "    try:\n",
    "        tar_idx = content.index('$t$')\n",
    "    except ValueError:\n",
    "        print(content)\n",
    "    fw = list(map(lambda w: word_idx_map.get(w, 0), content[0:tar_idx]))\n",
    "    x_fw.append(fw)\n",
    "    \n",
    "    bw = list(map(lambda w: word_idx_map.get(w, 0), content[tar_idx + 1:]))\n",
    "    bw.reverse()\n",
    "    x_bw.append(bw)\n",
    "\n",
    "    target_words.append([word_idx_map.get(tar, 0)])"
   ]
  },
  {
   "cell_type": "code",
   "execution_count": null,
   "metadata": {},
   "outputs": [],
   "source": []
  }
 ],
 "metadata": {
  "kernelspec": {
   "display_name": "Python 3",
   "language": "python",
   "name": "python3"
  },
  "language_info": {
   "codemirror_mode": {
    "name": "ipython",
    "version": 3
   },
   "file_extension": ".py",
   "mimetype": "text/x-python",
   "name": "python",
   "nbconvert_exporter": "python",
   "pygments_lexer": "ipython3",
   "version": "3.6.2"
  }
 },
 "nbformat": 4,
 "nbformat_minor": 2
}
