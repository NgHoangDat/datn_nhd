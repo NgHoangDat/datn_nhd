{
 "cells": [
  {
   "cell_type": "code",
   "execution_count": 1,
   "metadata": {},
   "outputs": [
    {
     "name": "stderr",
     "output_type": "stream",
     "text": [
      "F:\\Miniconda3\\lib\\site-packages\\gensim\\utils.py:860: UserWarning: detected Windows; aliasing chunkize to chunkize_serial\n",
      "  warnings.warn(\"detected Windows; aliasing chunkize to chunkize_serial\")\n"
     ]
    }
   ],
   "source": [
    "from utils import *\n",
    "import numpy as np"
   ]
  },
  {
   "cell_type": "code",
   "execution_count": 2,
   "metadata": {},
   "outputs": [
    {
     "name": "stdout",
     "output_type": "stream",
     "text": [
      "Positive: 26\n",
      "Negative: 47\n"
     ]
    }
   ],
   "source": [
    "tr_revs, tr_revs_content = read_data_file('./data/foody/tag_data.txt')"
   ]
  },
  {
   "cell_type": "code",
   "execution_count": 3,
   "metadata": {},
   "outputs": [],
   "source": [
    "word_idx_map, w2v = creat_word_embedding(tr_revs_content, 100)"
   ]
  },
  {
   "cell_type": "code",
   "execution_count": 4,
   "metadata": {},
   "outputs": [],
   "source": [
    "tr_x_fw, tr_len_fw, tr_x_bw, tr_len_bw, tr_tar_words, tr_y = data_parse(word_idx_map, tr_revs, 80)"
   ]
  },
  {
   "cell_type": "code",
   "execution_count": 8,
   "metadata": {},
   "outputs": [
    {
     "data": {
      "text/plain": [
       "array([22,  7, 52,  3, 32,  9, 56, 51, 45, 39, 31,  3, 43, 43, 35, 32, 21,\n",
       "       18, 10, 33, 25, 14, 13, 63, 59, 58, 11, 34,  6, 41, 80, 79, 70, 36,\n",
       "       13, 18, 12,  7,  3,  9,  6, 43, 25, 11,  8,  7,  5, 29, 15, 10, 27,\n",
       "       66, 43, 39, 26, 24, 13, 10, 44, 42, 35, 25,  9, 47, 21, 30, 14, 10,\n",
       "       71, 61, 57,  6, 76])"
      ]
     },
     "execution_count": 8,
     "metadata": {},
     "output_type": "execute_result"
    }
   ],
   "source": [
    "tr_len_bw"
   ]
  },
  {
   "cell_type": "code",
   "execution_count": null,
   "metadata": {},
   "outputs": [],
   "source": []
  }
 ],
 "metadata": {
  "kernelspec": {
   "display_name": "Python 3",
   "language": "python",
   "name": "python3"
  },
  "language_info": {
   "codemirror_mode": {
    "name": "ipython",
    "version": 3
   },
   "file_extension": ".py",
   "mimetype": "text/x-python",
   "name": "python",
   "nbconvert_exporter": "python",
   "pygments_lexer": "ipython3",
   "version": "3.6.2"
  }
 },
 "nbformat": 4,
 "nbformat_minor": 2
}
